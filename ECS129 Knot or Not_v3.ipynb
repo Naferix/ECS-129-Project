{
 "cells": [
  {
   "cell_type": "code",
   "execution_count": 1,
   "metadata": {},
   "outputs": [],
   "source": [
    "import numpy as np\n",
    "import matplotlib.pyplot as plt\n",
    "import csv\n",
    "import time"
   ]
  },
  {
   "cell_type": "code",
   "execution_count": 2,
   "metadata": {},
   "outputs": [],
   "source": [
    "dataVals = np.genfromtxt(r'1zncA.txt', delimiter='', dtype=float)\n",
    "avgCoords = []\n",
    "indexofthresholds = []\n",
    "x = 0"
   ]
  },
  {
   "cell_type": "code",
   "execution_count": 3,
   "metadata": {},
   "outputs": [],
   "source": [
    "def ray_dir(E,F):\n",
    "    d = E-F"
   ]
  },
  {
   "cell_type": "code",
   "execution_count": 4,
   "metadata": {},
   "outputs": [],
   "source": [
    "def normal(p0,p1,p2):\n",
    "    x0, y0, z0 = p0\n",
    "    x1, y1, z1 = p1\n",
    "    x2, y2, z2 = p2\n",
    "\n",
    "    ux, uy, uz = u = [x1-x0, y1-y0, z1-z0] #first vector\n",
    "    vx, vy, vz = v = [x2-x0, y2-y0, z2-z0] #sec vector\n",
    "\n",
    "    u_cross_v = [uy*vz-uz*vy, uz*vx-ux*vz, ux*vy-uy*vx] #cross product\n",
    "\n",
    "    point  = np.array(p1)\n",
    "    normal = np.array(u_cross_v)\n",
    "    return point,normal\n",
    "\n",
    "def point_check(point,norm,p_plane):\n",
    "    # In this instance we assume that the plane points 'up' and the arbitrary point\n",
    "    # is below the plane\n",
    "    dot_product = np.dot(norm,(point-p_plane))\n",
    "    if dot_product <= 0: # point is below\n",
    "        return -1\n",
    "    elif dot_product == 0: # point is on the plane\n",
    "        return 0\n",
    "    else:\n",
    "        return 1 # point is above plane\n",
    "\n",
    "# This function verifies if the line segment crosses plane or not\n",
    "def segment_verify(l1,l2,p1,p2,p3):\n",
    "    plane_point, plane_norm = normal(p1,p2,p3)\n",
    "    \n",
    "    check1 = point_check(l1,plane_norm,plane_point)\n",
    "    check2 = point_check(l2,plane_norm,plane_point)\n",
    "    \n",
    "    # If both checks return the same answer, that means line segment is not crossing the plane\n",
    "    if check1 == check2:\n",
    "        return False\n",
    "    # If both checks return different answer that means line segment is crossing the plane\n",
    "    else:\n",
    "        return True"
   ]
  },
  {
   "cell_type": "code",
   "execution_count": null,
   "metadata": {},
   "outputs": [],
   "source": []
  },
  {
   "cell_type": "code",
   "execution_count": 13,
   "metadata": {},
   "outputs": [],
   "source": [
    "def intersect_line_triangle(q1, q2, p1, p2, p3):\n",
    "    def signed_tetra_volume(a, b, c, d):\n",
    "        return np.sign(np.dot(np.cross(b - a, c - a), d - a))\n",
    "\n",
    "    numknots = 0\n",
    "    #s1 = signed_tetra_volume(p1, p2, p3, q1)\n",
    "    #s2 = signed_tetra_volume(p1, p2, p3, q2)\n",
    "    val = segment_verify(q1, q2, p1, p2, p3)\n",
    "    \n",
    "    #The line segment crosses the plane\n",
    "    if val == True:\n",
    "    #if s1 != s2:\n",
    "        s3 = signed_tetra_volume(p1, p2, q1, q2)\n",
    "        s4 = signed_tetra_volume(p2, p3, q1, q2)\n",
    "        s5 = signed_tetra_volume(p3, p1, q1, q2)\n",
    "        if s3==s4 and s4==s5:\n",
    "#            n = np.cross(p2 - p1, p3 - p1)\n",
    "#            t = np.dot(p1 - q1, n) / np.dot(q2 - q1, n)\n",
    "            numknots = numknots + 1\n",
    "    # return None\n",
    "    return numknots"
   ]
  },
  {
   "cell_type": "markdown",
   "metadata": {},
   "source": [
    "# Strategy 1: Once threshold is reach, remove the point"
   ]
  },
  {
   "cell_type": "code",
   "execution_count": 6,
   "metadata": {},
   "outputs": [],
   "source": [
    "def lineseg_dist(p, a, b):\n",
    "\n",
    "    # normalized tangent vector\n",
    "    d = np.divide(b - a, np.linalg.norm(b - a))\n",
    "\n",
    "    # signed parallel distance components\n",
    "    s = np.dot(a - p, d)\n",
    "    t = np.dot(p - b, d)\n",
    "\n",
    "    # clamped parallel distance\n",
    "    h = np.maximum.reduce([s, t, 0])\n",
    "\n",
    "    # perpendicular distance component\n",
    "    c = np.cross(p - a, d)\n",
    "\n",
    "    return np.hypot(h, np.linalg.norm(c))"
   ]
  },
  {
   "cell_type": "markdown",
   "metadata": {},
   "source": [
    "# Run Code"
   ]
  },
  {
   "cell_type": "code",
   "execution_count": 14,
   "metadata": {
    "scrolled": false
   },
   "outputs": [
    {
     "name": "stdout",
     "output_type": "stream",
     "text": [
      "On iteration: 0\n",
      "Time for execution of program: 8.527844429\n",
      "curr possible numknot: 0\n",
      "92\n",
      "On iteration: 1\n",
      "Time for execution of program: 8.1157522202\n",
      "curr possible numknot: 0\n"
     ]
    },
    {
     "ename": "KeyboardInterrupt",
     "evalue": "",
     "output_type": "error",
     "traceback": [
      "\u001b[1;31m---------------------------------------------------------------------------\u001b[0m",
      "\u001b[1;31mKeyboardInterrupt\u001b[0m                         Traceback (most recent call last)",
      "\u001b[1;32m<ipython-input-14-9bfa371c26f2>\u001b[0m in \u001b[0;36m<module>\u001b[1;34m\u001b[0m\n\u001b[0;32m     41\u001b[0m             \u001b[0mE\u001b[0m \u001b[1;33m=\u001b[0m \u001b[0mdataVals\u001b[0m\u001b[1;33m[\u001b[0m\u001b[0mj\u001b[0m\u001b[1;33m]\u001b[0m\u001b[1;33m\u001b[0m\u001b[1;33m\u001b[0m\u001b[0m\n\u001b[0;32m     42\u001b[0m             \u001b[0mF\u001b[0m \u001b[1;33m=\u001b[0m \u001b[0mdataVals\u001b[0m\u001b[1;33m[\u001b[0m\u001b[0mj\u001b[0m \u001b[1;33m+\u001b[0m \u001b[1;36m1\u001b[0m\u001b[1;33m]\u001b[0m\u001b[1;33m\u001b[0m\u001b[1;33m\u001b[0m\u001b[0m\n\u001b[1;32m---> 43\u001b[1;33m             \u001b[0mnk\u001b[0m \u001b[1;33m+=\u001b[0m \u001b[0mintersect_line_triangle\u001b[0m\u001b[1;33m(\u001b[0m\u001b[0mE\u001b[0m\u001b[1;33m,\u001b[0m \u001b[0mF\u001b[0m\u001b[1;33m,\u001b[0m \u001b[0mA\u001b[0m\u001b[1;33m,\u001b[0m \u001b[0mB\u001b[0m\u001b[1;33m,\u001b[0m \u001b[0mC\u001b[0m\u001b[1;33m)\u001b[0m\u001b[1;33m\u001b[0m\u001b[1;33m\u001b[0m\u001b[0m\n\u001b[0m\u001b[0;32m     44\u001b[0m \u001b[1;33m\u001b[0m\u001b[0m\n\u001b[0;32m     45\u001b[0m         \u001b[1;32mif\u001b[0m \u001b[0mnk\u001b[0m\u001b[1;33m==\u001b[0m\u001b[1;36m0\u001b[0m\u001b[1;33m:\u001b[0m\u001b[1;33m\u001b[0m\u001b[1;33m\u001b[0m\u001b[0m\n",
      "\u001b[1;32m<ipython-input-13-acf83c687f63>\u001b[0m in \u001b[0;36mintersect_line_triangle\u001b[1;34m(q1, q2, p1, p2, p3)\u001b[0m\n\u001b[0;32m      6\u001b[0m     \u001b[1;31m#s1 = signed_tetra_volume(p1, p2, p3, q1)\u001b[0m\u001b[1;33m\u001b[0m\u001b[1;33m\u001b[0m\u001b[1;33m\u001b[0m\u001b[0m\n\u001b[0;32m      7\u001b[0m     \u001b[1;31m#s2 = signed_tetra_volume(p1, p2, p3, q2)\u001b[0m\u001b[1;33m\u001b[0m\u001b[1;33m\u001b[0m\u001b[1;33m\u001b[0m\u001b[0m\n\u001b[1;32m----> 8\u001b[1;33m     \u001b[0mval\u001b[0m \u001b[1;33m=\u001b[0m \u001b[0msegment_verify\u001b[0m\u001b[1;33m(\u001b[0m\u001b[0mq1\u001b[0m\u001b[1;33m,\u001b[0m \u001b[0mq2\u001b[0m\u001b[1;33m,\u001b[0m \u001b[0mp1\u001b[0m\u001b[1;33m,\u001b[0m \u001b[0mp2\u001b[0m\u001b[1;33m,\u001b[0m \u001b[0mp3\u001b[0m\u001b[1;33m)\u001b[0m\u001b[1;33m\u001b[0m\u001b[1;33m\u001b[0m\u001b[0m\n\u001b[0m\u001b[0;32m      9\u001b[0m \u001b[1;33m\u001b[0m\u001b[0m\n\u001b[0;32m     10\u001b[0m     \u001b[1;31m#The line segment crosses the plane\u001b[0m\u001b[1;33m\u001b[0m\u001b[1;33m\u001b[0m\u001b[1;33m\u001b[0m\u001b[0m\n",
      "\u001b[1;32m<ipython-input-4-e7074bac925e>\u001b[0m in \u001b[0;36msegment_verify\u001b[1;34m(l1, l2, p1, p2, p3)\u001b[0m\n\u001b[0;32m     29\u001b[0m \u001b[1;33m\u001b[0m\u001b[0m\n\u001b[0;32m     30\u001b[0m     \u001b[0mcheck1\u001b[0m \u001b[1;33m=\u001b[0m \u001b[0mpoint_check\u001b[0m\u001b[1;33m(\u001b[0m\u001b[0ml1\u001b[0m\u001b[1;33m,\u001b[0m\u001b[0mplane_norm\u001b[0m\u001b[1;33m,\u001b[0m\u001b[0mplane_point\u001b[0m\u001b[1;33m)\u001b[0m\u001b[1;33m\u001b[0m\u001b[1;33m\u001b[0m\u001b[0m\n\u001b[1;32m---> 31\u001b[1;33m     \u001b[0mcheck2\u001b[0m \u001b[1;33m=\u001b[0m \u001b[0mpoint_check\u001b[0m\u001b[1;33m(\u001b[0m\u001b[0ml2\u001b[0m\u001b[1;33m,\u001b[0m\u001b[0mplane_norm\u001b[0m\u001b[1;33m,\u001b[0m\u001b[0mplane_point\u001b[0m\u001b[1;33m)\u001b[0m\u001b[1;33m\u001b[0m\u001b[1;33m\u001b[0m\u001b[0m\n\u001b[0m\u001b[0;32m     32\u001b[0m \u001b[1;33m\u001b[0m\u001b[0m\n\u001b[0;32m     33\u001b[0m     \u001b[1;31m# If both checks return the same answer, that means line segment is not crossing the plane\u001b[0m\u001b[1;33m\u001b[0m\u001b[1;33m\u001b[0m\u001b[1;33m\u001b[0m\u001b[0m\n",
      "\u001b[1;32m<ipython-input-4-e7074bac925e>\u001b[0m in \u001b[0;36mpoint_check\u001b[1;34m(point, norm, p_plane)\u001b[0m\n\u001b[0;32m     16\u001b[0m     \u001b[1;31m# In this instance we assume that the plane points 'up' and the arbitrary point\u001b[0m\u001b[1;33m\u001b[0m\u001b[1;33m\u001b[0m\u001b[1;33m\u001b[0m\u001b[0m\n\u001b[0;32m     17\u001b[0m     \u001b[1;31m# is below the plane\u001b[0m\u001b[1;33m\u001b[0m\u001b[1;33m\u001b[0m\u001b[1;33m\u001b[0m\u001b[0m\n\u001b[1;32m---> 18\u001b[1;33m     \u001b[0mdot_product\u001b[0m \u001b[1;33m=\u001b[0m \u001b[0mnp\u001b[0m\u001b[1;33m.\u001b[0m\u001b[0mdot\u001b[0m\u001b[1;33m(\u001b[0m\u001b[0mnorm\u001b[0m\u001b[1;33m,\u001b[0m\u001b[1;33m(\u001b[0m\u001b[0mpoint\u001b[0m\u001b[1;33m-\u001b[0m\u001b[0mp_plane\u001b[0m\u001b[1;33m)\u001b[0m\u001b[1;33m)\u001b[0m\u001b[1;33m\u001b[0m\u001b[1;33m\u001b[0m\u001b[0m\n\u001b[0m\u001b[0;32m     19\u001b[0m     \u001b[1;32mif\u001b[0m \u001b[0mdot_product\u001b[0m \u001b[1;33m<=\u001b[0m \u001b[1;36m0\u001b[0m\u001b[1;33m:\u001b[0m \u001b[1;31m# point is below\u001b[0m\u001b[1;33m\u001b[0m\u001b[1;33m\u001b[0m\u001b[0m\n\u001b[0;32m     20\u001b[0m         \u001b[1;32mreturn\u001b[0m \u001b[1;33m-\u001b[0m\u001b[1;36m1\u001b[0m\u001b[1;33m\u001b[0m\u001b[1;33m\u001b[0m\u001b[0m\n",
      "\u001b[1;32m<__array_function__ internals>\u001b[0m in \u001b[0;36mdot\u001b[1;34m(*args, **kwargs)\u001b[0m\n",
      "\u001b[1;31mKeyboardInterrupt\u001b[0m: "
     ]
    }
   ],
   "source": [
    "dataVals = np.genfromtxt(r'1zncA.txt', delimiter='', dtype=float)\n",
    "totalTime = 0\n",
    "for k in range(0, 50):\n",
    "    nproblem = 0\n",
    "    start = time.time()\n",
    "\n",
    "    for i in range(0, len(dataVals) - 2):\n",
    "\n",
    "        xCoord = (dataVals[i][0] + dataVals[i + 1][0] + dataVals[i + 2][0]) / 3\n",
    "        yCoord = (dataVals[i][1] + dataVals[i + 1][1] + dataVals[i + 2][1]) / 3\n",
    "        zCoord = (dataVals[i][2] + dataVals[i + 1][2] + dataVals[i + 2][2]) / 3\n",
    "        \n",
    "        avgCoords=[xCoord, yCoord, zCoord];\n",
    "        \n",
    "        A = dataVals[i]\n",
    "        B = dataVals[i + 1]\n",
    "        C = avgCoords\n",
    "\n",
    "        nk=0\n",
    "\n",
    "        for j in range(0, i-2): \n",
    "            E = dataVals[j]\n",
    "            F = dataVals[j + 1]\n",
    "            nk += intersect_line_triangle(E, F, A, B, C)\n",
    "\n",
    "        for j in range(i + 2, len(dataVals)-1):\n",
    "            E = dataVals[j]\n",
    "            F = dataVals[j + 1]\n",
    "            nk += intersect_line_triangle(E, F, A, B, C)\n",
    "\n",
    "        A = dataVals[i + 1]\n",
    "        B = avgCoords\n",
    "        C = dataVals[i + 2]\n",
    "\n",
    "        for j in range(0, i-1):\n",
    "            E = dataVals[j]\n",
    "            F = dataVals[j + 1]\n",
    "            nk += intersect_line_triangle(E, F, A, B, C)\n",
    "\n",
    "        for j in range(i + 3, len(dataVals)-1):\n",
    "            E = dataVals[j]\n",
    "            F = dataVals[j + 1]\n",
    "            nk += intersect_line_triangle(E, F, A, B, C)\n",
    "        \n",
    "        if nk==0:\n",
    "            dataVals[i + 1] = avgCoords\n",
    "        nproblem += nk\n",
    "        \n",
    "        # Check if distance is short enough\n",
    "        distance = lineseg_dist(avgCoords, dataVals[i], dataVals[i+2])\n",
    "        if distance < 0.01:\n",
    "            indexofthresholds.append(i)\n",
    "            print(i)\n",
    "            \n",
    "    #for i in indexofthresholds:\n",
    "        #dataVals = np.delete(dataVals, i, 0)\n",
    "    #indexofthresholds = []\n",
    "    end = time.time()\n",
    "    \n",
    "    print(\"On iteration:\", k)\n",
    "    totalTime += round(end - start, 10)\n",
    "    print(\"Time for execution of program: {}\".format(round(end-start, 10)))\n",
    "\n",
    "    print(\"curr possible numknot:\", nproblem)\n",
    "print(\"Total program runtime: {}\".format(totalTime))"
   ]
  },
  {
   "cell_type": "code",
   "execution_count": null,
   "metadata": {},
   "outputs": [],
   "source": []
  }
 ],
 "metadata": {
  "kernelspec": {
   "display_name": "Python 3",
   "language": "python",
   "name": "python3"
  },
  "language_info": {
   "codemirror_mode": {
    "name": "ipython",
    "version": 3
   },
   "file_extension": ".py",
   "mimetype": "text/x-python",
   "name": "python",
   "nbconvert_exporter": "python",
   "pygments_lexer": "ipython3",
   "version": "3.8.5"
  }
 },
 "nbformat": 4,
 "nbformat_minor": 4
}
