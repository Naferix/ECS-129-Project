{
 "cells": [
  {
   "cell_type": "code",
   "execution_count": 1,
   "metadata": {},
   "outputs": [],
   "source": [
    "import numpy as np\n",
    "import matplotlib.pyplot as plt\n",
    "import pandas as pd\n",
    "import csv"
   ]
  },
  {
   "cell_type": "code",
   "execution_count": 2,
   "metadata": {},
   "outputs": [],
   "source": [
    "def intersect_line_triangle(q1, q2, p1, p2, p3):\n",
    "    def signed_tetra_volume(a, b, c, d):\n",
    "        return np.sign(np.dot(np.cross(b - a, c - a), d - a) / 6.0)\n",
    "\n",
    "    s1 = signed_tetra_volume(q1, p1, p2, p3)\n",
    "    s2 = signed_tetra_volume(q2, p1, p2, p3)\n",
    "\n",
    "    if s1 != s2:\n",
    "        s3 = signed_tetra_volume(q1, q2, p1, p2)\n",
    "        s4 = signed_tetra_volume(q1, q2, p2, p3)\n",
    "        s5 = signed_tetra_volume(q1, q2, p3, p1)\n",
    "        if s3 == s4 and s4 == s5:\n",
    "            n = np.cross(p2 - p1, p3 - p1)\n",
    "            t = np.dot(p1 - q1, n) / np.dot(q2 - q1, n)\n",
    "            return q1 + t * (q2 - q1)\n",
    "    # return None\n",
    "    return 0"
   ]
  },
  {
   "cell_type": "code",
   "execution_count": 4,
   "metadata": {},
   "outputs": [],
   "source": [
    "dataVals = np.genfromtxt(r'1timA.txt', delimiter='', dtype=float)\n",
    "avgCoords = []"
   ]
  },
  {
   "cell_type": "code",
   "execution_count": 5,
   "metadata": {},
   "outputs": [
    {
     "name": "stdout",
     "output_type": "stream",
     "text": [
      "Overall in the Sequence, there was no knot detected\n"
     ]
    }
   ],
   "source": [
    "    for i in range(1, len(dataVals) - 2):\n",
    "        xCoord = (dataVals[i][0] + dataVals[i + 1][0] + dataVals[i + 2][0]) / 3\n",
    "        yCoord = (dataVals[i][1] + dataVals[i + 1][1] + dataVals[i + 2][1]) / 3\n",
    "        zCoord = (dataVals[i][2] + dataVals[i + 1][2] + dataVals[i + 2][2]) / 3\n",
    "        avgCoords.append([xCoord, yCoord, zCoord])\n",
    "\n",
    "        A = dataVals[i]\n",
    "        B = dataVals[i + 1]\n",
    "        C = avgCoords[0]\n",
    "\n",
    "        for j in range(1, i - 1):\n",
    "            E = dataVals[j]\n",
    "            F = dataVals[j + 1]\n",
    "            intersect_line_triangle(E, F, A, B, C)\n",
    "\n",
    "        for j in range(i + 1, len(dataVals) - 1):\n",
    "            E = dataVals[j]\n",
    "            F = dataVals[j + 1]\n",
    "            intersect_line_triangle(E, F, A, B, C)\n",
    "\n",
    "        A = dataVals[i + 1]\n",
    "        B = avgCoords[0]\n",
    "        C = dataVals[i + 2]\n",
    "\n",
    "        for j in range(1, i - 1):\n",
    "            E = dataVals[j]\n",
    "            F = dataVals[j + 1]\n",
    "            intersect_line_triangle(E, F, A, B, C)\n",
    "\n",
    "        for j in range(i + 1, len(dataVals) - 1):\n",
    "            E = dataVals[j]\n",
    "            F = dataVals[j + 1]\n",
    "            intersect_line_triangle(E, F, A, B, C)\n",
    "\n",
    "    print(\"Overall in the Sequence, there was no knot detected\")"
   ]
  },
  {
   "cell_type": "code",
   "execution_count": null,
   "metadata": {},
   "outputs": [],
   "source": []
  }
 ],
 "metadata": {
  "kernelspec": {
   "display_name": "Python 3",
   "language": "python",
   "name": "python3"
  },
  "language_info": {
   "codemirror_mode": {
    "name": "ipython",
    "version": 3
   },
   "file_extension": ".py",
   "mimetype": "text/x-python",
   "name": "python",
   "nbconvert_exporter": "python",
   "pygments_lexer": "ipython3",
   "version": "3.8.5"
  }
 },
 "nbformat": 4,
 "nbformat_minor": 4
}
