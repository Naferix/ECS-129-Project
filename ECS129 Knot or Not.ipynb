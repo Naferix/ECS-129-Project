{
 "cells": [
  {
   "cell_type": "code",
   "execution_count": 20,
   "metadata": {},
   "outputs": [],
   "source": [
    "import numpy as np\n",
    "import matplotlib.pyplot as plt\n",
    "import pandas as pd\n",
    "import csv"
   ]
  },
  {
   "cell_type": "code",
   "execution_count": 21,
   "metadata": {},
   "outputs": [],
   "source": [
    "def intersect_line_triangle(q1, q2, p1, p2, p3):\n",
    "    def signed_tetra_volume(a, b, c, d):\n",
    "        return np.sign(np.dot(np.cross(b - a, c - a), d - a) / 6.0)\n",
    "\n",
    "    s1 = signed_tetra_volume(q1, p1, p2, p3)\n",
    "    s2 = signed_tetra_volume(q2, p1, p2, p3)\n",
    "\n",
    "    if s1 != s2:\n",
    "        s3 = signed_tetra_volume(q1, q2, p1, p2)\n",
    "        s4 = signed_tetra_volume(q1, q2, p2, p3)\n",
    "        s5 = signed_tetra_volume(q1, q2, p3, p1)\n",
    "        if s3 == s4 and s4 == s5:\n",
    "            n = np.cross(p2 - p1, p3 - p1)\n",
    "            t = np.dot(p1 - q1, n) / np.dot(q2 - q1, n)\n",
    "            numknots = numknots + 1\n",
    "            return q1 + t * (q2 - q1)\n",
    "    # return None\n",
    "    return 0"
   ]
  },
  {
   "cell_type": "code",
   "execution_count": 33,
   "metadata": {},
   "outputs": [],
   "source": [
    "dataVals = np.genfromtxt(r'1zncA.txt', delimiter='', dtype=float)\n",
    "avgCoords = []\n",
    "numknots = 0\n",
    "x = 0"
   ]
  },
  {
   "cell_type": "code",
   "execution_count": 38,
   "metadata": {
    "scrolled": false
   },
   "outputs": [
    {
     "name": "stderr",
     "output_type": "stream",
     "text": [
      "<ipython-input-21-b0d209e3f2c3>:14: RuntimeWarning: invalid value encountered in double_scalars\n",
      "  t = np.dot(p1 - q1, n) / np.dot(q2 - q1, n)\n"
     ]
    },
    {
     "name": "stdout",
     "output_type": "stream",
     "text": [
      "On iteration: 0\n",
      "curr numknots: 0\n",
      "On iteration: 1\n",
      "curr numknots: 0\n",
      "On iteration: 2\n",
      "curr numknots: 0\n",
      "On iteration: 3\n",
      "curr numknots: 0\n",
      "On iteration: 4\n",
      "curr numknots: 0\n",
      "On iteration: 5\n",
      "curr numknots: 0\n",
      "On iteration: 6\n",
      "curr numknots: 0\n",
      "On iteration: 7\n",
      "curr numknots: 0\n",
      "On iteration: 8\n",
      "curr numknots: 0\n",
      "On iteration: 9\n",
      "curr numknots: 0\n"
     ]
    }
   ],
   "source": [
    "for k in range(0, 10):\n",
    "    for i in range(0, len(dataVals) - 2):\n",
    "        xCoord = (dataVals[i][0] + dataVals[i + 1][0] + dataVals[i + 2][0]) / 3\n",
    "        yCoord = (dataVals[i][1] + dataVals[i + 1][1] + dataVals[i + 2][1]) / 3\n",
    "        zCoord = (dataVals[i][2] + dataVals[i + 1][2] + dataVals[i + 2][2]) / 3\n",
    "        \n",
    "        avgCoords.append([xCoord, yCoord, zCoord])\n",
    "        \n",
    "        A = dataVals[i]\n",
    "        B = dataVals[i + 1]\n",
    "        C = avgCoords[i]\n",
    "\n",
    "        for j in range(0, i - 1):\n",
    "            E = dataVals[j]\n",
    "            F = dataVals[j + 1]\n",
    "            intersect_line_triangle(E, F, A, B, C)\n",
    "\n",
    "        for j in range(i + 1, len(dataVals) - 1):\n",
    "            E = dataVals[j]\n",
    "            F = dataVals[j + 1]\n",
    "            intersect_line_triangle(E, F, A, B, C)\n",
    "\n",
    "        A = dataVals[i + 1]\n",
    "        B = avgCoords[i]\n",
    "        C = dataVals[i + 2]\n",
    "\n",
    "        for j in range(0, i - 1):\n",
    "            E = dataVals[j]\n",
    "            F = dataVals[j + 1]\n",
    "            intersect_line_triangle(E, F, A, B, C)\n",
    "\n",
    "        for j in range(i + 1, len(dataVals) - 1):\n",
    "            E = dataVals[j]\n",
    "            F = dataVals[j + 1]\n",
    "            intersect_line_triangle(E, F, A, B, C)\n",
    "        \n",
    "        dataVals[i + 1] = avgCoords[i]\n",
    "    print(\"On iteration:\", k)\n",
    "    print(\"curr numknots:\", numknots)"
   ]
  },
  {
   "cell_type": "code",
   "execution_count": null,
   "metadata": {},
   "outputs": [],
   "source": []
  }
 ],
 "metadata": {
  "kernelspec": {
   "display_name": "Python 3",
   "language": "python",
   "name": "python3"
  },
  "language_info": {
   "codemirror_mode": {
    "name": "ipython",
    "version": 3
   },
   "file_extension": ".py",
   "mimetype": "text/x-python",
   "name": "python",
   "nbconvert_exporter": "python",
   "pygments_lexer": "ipython3",
   "version": "3.8.5"
  }
 },
 "nbformat": 4,
 "nbformat_minor": 4
}
