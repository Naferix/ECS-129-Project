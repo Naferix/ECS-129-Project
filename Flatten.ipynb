{
 "cells": [
  {
   "cell_type": "code",
   "execution_count": 3,
   "metadata": {},
   "outputs": [],
   "source": [
    "import numpy as np \n",
    "import matplotlib.pyplot as plt\n",
    "import pandas as pd\n",
    "import csv\n",
    "import matplotlib.pyplot as plt\n",
    "from mpl_toolkits.mplot3d import Axes3D"
   ]
  },
  {
   "cell_type": "code",
   "execution_count": 4,
   "metadata": {},
   "outputs": [],
   "source": [
    "data = np.genfromtxt(r'1timA.txt', delimiter='', dtype=float)"
   ]
  },
  {
   "cell_type": "markdown",
   "metadata": {},
   "source": [
    "# This takes average of things"
   ]
  },
  {
   "cell_type": "code",
   "execution_count": 5,
   "metadata": {},
   "outputs": [],
   "source": [
    "def average(ar1,ar2,ar3):\n",
    "    center = [0]*3\n",
    "    center[0] = (ar1[0] + ar2[0] + ar3[0])/3\n",
    "    center[1] = (ar1[1] + ar2[1] + ar3[1])/3\n",
    "    center[2] = (ar1[2] + ar2[2] + ar3[2])/3\n",
    "    return center"
   ]
  },
  {
   "cell_type": "markdown",
   "metadata": {},
   "source": [
    "## Test case"
   ]
  },
  {
   "cell_type": "code",
   "execution_count": 23,
   "metadata": {},
   "outputs": [],
   "source": [
    "#plane:\n",
    "a = np.array([0,0,0])\n",
    "b = np.array([0,10,0])\n",
    "c = np.array([10,0,0])\n",
    "\n",
    "#intersecting line:\n",
    "p1 = np.array([1,1,1])\n",
    "p2 = np.array([1,1,-1])\n",
    "\n",
    "#non-intersecting line:\n",
    "p3 = np.array([0,5,5])\n",
    "p4 = np.array([6,0,10])"
   ]
  },
  {
   "cell_type": "markdown",
   "metadata": {},
   "source": []
  },
  {
   "cell_type": "code",
   "execution_count": 24,
   "metadata": {},
   "outputs": [],
   "source": [
    "def intersect_line_triangle(q1,q2,p1,p2,p3):\n",
    "    def signed_tetra_volume(a,b,c,d):\n",
    "        return np.sign(np.dot(np.cross(b-a,c-a),d-a)/6.0)\n",
    "\n",
    "    s1 = signed_tetra_volume(q1,p1,p2,p3)\n",
    "    s2 = signed_tetra_volume(q2,p1,p2,p3)\n",
    "\n",
    "    if s1 != s2:\n",
    "        s3 = signed_tetra_volume(q1,q2,p1,p2)\n",
    "        s4 = signed_tetra_volume(q1,q2,p2,p3)\n",
    "        s5 = signed_tetra_volume(q1,q2,p3,p1)\n",
    "        if s3 == s4 and s4 == s5:\n",
    "            n = np.cross(p2-p1,p3-p1)\n",
    "            t = np.dot(p1-q1,n) / np.dot(q2-q1,n)\n",
    "            return q1 + t * (q2-q1)\n",
    "    return None"
   ]
  },
  {
   "cell_type": "code",
   "execution_count": 27,
   "metadata": {},
   "outputs": [
    {
     "data": {
      "text/plain": [
       "array([1., 1., 0.])"
      ]
     },
     "execution_count": 27,
     "metadata": {},
     "output_type": "execute_result"
    }
   ],
   "source": [
    "intersect_line_triangle(p1,p2,a,b,c)"
   ]
  },
  {
   "cell_type": "code",
   "execution_count": null,
   "metadata": {},
   "outputs": [],
   "source": []
  }
 ],
 "metadata": {
  "kernelspec": {
   "display_name": "Python 3",
   "language": "python",
   "name": "python3"
  },
  "language_info": {
   "codemirror_mode": {
    "name": "ipython",
    "version": 3
   },
   "file_extension": ".py",
   "mimetype": "text/x-python",
   "name": "python",
   "nbconvert_exporter": "python",
   "pygments_lexer": "ipython3",
   "version": "3.8.5"
  }
 },
 "nbformat": 4,
 "nbformat_minor": 4
}
