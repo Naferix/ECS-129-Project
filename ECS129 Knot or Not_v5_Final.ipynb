{
 "cells": [
  {
   "cell_type": "code",
   "execution_count": 39,
   "metadata": {},
   "outputs": [],
   "source": [
    "import numpy as np\n",
    "import matplotlib.pyplot as plt\n",
    "import csv"
   ]
  },
  {
   "cell_type": "code",
   "execution_count": 40,
   "metadata": {},
   "outputs": [],
   "source": [
    "# declaring globals\n",
    "avgCoords = []\n",
    "indexofthresholds = []"
   ]
  },
  {
   "cell_type": "code",
   "execution_count": 41,
   "metadata": {},
   "outputs": [],
   "source": [
    "# helper functions to help us detect whether or not a line segment crosses a specified plane\n",
    "def normal(p0,p1,p2):\n",
    "    x0, y0, z0 = p0\n",
    "    x1, y1, z1 = p1\n",
    "    x2, y2, z2 = p2\n",
    "\n",
    "    ux, uy, uz = u = [x1 - x0, y1 - y0, z1 - z0] #first vector\n",
    "    vx, vy, vz = v = [x2 - x0, y2 - y0, z2 - z0] #sec vector\n",
    "\n",
    "    u_cross_v = [uy * vz - uz * vy, uz * vx - ux * vz, ux * vy - uy * vx] #cross product\n",
    "\n",
    "    point  = np.array(p1)\n",
    "    normal = np.array(u_cross_v)\n",
    "    return point, normal\n",
    "\n",
    "def point_check(point, norm, p_plane):\n",
    "    # In this instance we assume that the plane points 'up' and the arbitrary point\n",
    "    # is below the plane\n",
    "    dot_product = np.dot(norm, (point-p_plane))\n",
    "    if dot_product <= 0: # point is below the plane\n",
    "        return -1\n",
    "    elif dot_product == 0: # point is on the plane\n",
    "        return 0\n",
    "    else:\n",
    "        return 1 # point is above the plane\n",
    "\n",
    "# This function verifies if the line segment crosses plane or not\n",
    "def segment_verify(l1, l2, p1, p2, p3):\n",
    "    plane_point, plane_norm = normal(p1, p2, p3)\n",
    "    \n",
    "    check1 = point_check(l1,plane_norm,plane_point)\n",
    "    check2 = point_check(l2,plane_norm,plane_point)\n",
    "    \n",
    "    # If both checks return the same answer, that means line segment is not crossing the plane\n",
    "    if check1 == check2:\n",
    "        return False\n",
    "    # If both checks return different answer that means line segment is crossing the plane\n",
    "    else:\n",
    "        return True"
   ]
  },
  {
   "cell_type": "code",
   "execution_count": 42,
   "metadata": {},
   "outputs": [],
   "source": [
    "# determines if a line segments crosses the triangle\n",
    "def intersect_line_triangle(q1, q2, p1, p2, p3):\n",
    "    def signed_tetra_volume(a, b, c, d):\n",
    "        return np.sign(np.dot(np.cross(b - a, c - a), d - a))\n",
    "\n",
    "    numknots = 0\n",
    "    val = segment_verify(q1, q2, p1, p2, p3)\n",
    "    \n",
    "    #If we know the line segment crosses the plane, check to see if it crosses the triangle in the plane to see if theres a knot\n",
    "    if val == True:\n",
    "        s3 = signed_tetra_volume(p1, p2, q1, q2)\n",
    "        s4 = signed_tetra_volume(p2, p3, q1, q2)\n",
    "        s5 = signed_tetra_volume(p3, p1, q1, q2)\n",
    "        if s3==s4 and s4==s5:\n",
    "            numknots = numknots + 1\n",
    "    return numknots"
   ]
  },
  {
   "cell_type": "markdown",
   "metadata": {},
   "source": [
    "# Strategy 1: Once threshold is reach, remove the point"
   ]
  },
  {
   "cell_type": "code",
   "execution_count": 43,
   "metadata": {},
   "outputs": [],
   "source": [
    "# Checking if Threshold is reached and we can skip and delete the index of i+1\n",
    "def lineseg_dist(p, a, b):\n",
    "\n",
    "    # normalized tangent vector\n",
    "    d = np.divide(b - a, np.linalg.norm(b - a))\n",
    "\n",
    "    # signed parallel distance components\n",
    "    s = np.dot(a - p, d)\n",
    "    t = np.dot(p - b, d)\n",
    "\n",
    "    # clamped parallel distance\n",
    "    h = np.maximum.reduce([s, t, 0])\n",
    "\n",
    "    # perpendicular distance component\n",
    "    c = np.cross(p - a, d)\n",
    "\n",
    "    return np.hypot(h, np.linalg.norm(c))"
   ]
  },
  {
   "cell_type": "markdown",
   "metadata": {},
   "source": [
    "# Run Code"
   ]
  },
  {
   "cell_type": "code",
   "execution_count": 44,
   "metadata": {
    "scrolled": false
   },
   "outputs": [
    {
     "name": "stdout",
     "output_type": "stream",
     "text": [
      "On iteration 24, 1 knot(s) were detected\n"
     ]
    }
   ],
   "source": [
    "dataVals = np.genfromtxt(r'5pti.txt', delimiter='', dtype=float)\n",
    "totalKnotsFnd = 0\n",
    "\n",
    "# Arbitrary # of iterations\n",
    "for k in range(0, 50):\n",
    "    nproblem = 0\n",
    "\n",
    "    for i in range(0, len(dataVals) - 2):\n",
    "        # Attempting to straighten out the triangle\n",
    "        xCoord = (dataVals[i][0] + dataVals[i + 1][0] + dataVals[i + 2][0]) / 3\n",
    "        yCoord = (dataVals[i][1] + dataVals[i + 1][1] + dataVals[i + 2][1]) / 3\n",
    "        zCoord = (dataVals[i][2] + dataVals[i + 1][2] + dataVals[i + 2][2]) / 3\n",
    "        \n",
    "        avgCoords=[xCoord, yCoord, zCoord];\n",
    "        \n",
    "        # Generating the triangle in 3d space to see if a line segment crosses it\n",
    "        A = dataVals[i]\n",
    "        B = dataVals[i + 1]\n",
    "        C = avgCoords\n",
    "\n",
    "        nk=0\n",
    "\n",
    "        # Checking all line segments up until indexes used for the triangle\n",
    "        # range is until i-2 since the line seg right before the i would never cross\n",
    "        for j in range(0, i-2): \n",
    "            E = dataVals[j]\n",
    "            F = dataVals[j + 1]\n",
    "            nk += intersect_line_triangle(E, F, A, B, C)\n",
    "\n",
    "        # Checking all line segments after the indexes used for the triangle\n",
    "        for j in range(i + 2, len(dataVals)-1):\n",
    "            E = dataVals[j]\n",
    "            F = dataVals[j + 1]\n",
    "            nk += intersect_line_triangle(E, F, A, B, C)\n",
    "\n",
    "        # Generating the other part of the triangle in 3d space to see if a line segment crosses it\n",
    "        A = dataVals[i + 1]\n",
    "        B = avgCoords\n",
    "        C = dataVals[i + 2]\n",
    "\n",
    "        # Checking all line segments up until indexes used for the triangle\n",
    "        # range is until i-1 since the line seg right before the i would never cross\n",
    "        for j in range(0, i-1):\n",
    "            E = dataVals[j]\n",
    "            F = dataVals[j + 1]\n",
    "            nk += intersect_line_triangle(E, F, A, B, C)\n",
    "\n",
    "        # Checking all line segments after the indexes used for the triangle\n",
    "        for j in range(i + 3, len(dataVals)-1):\n",
    "            E = dataVals[j]\n",
    "            F = dataVals[j + 1]\n",
    "            nk += intersect_line_triangle(E, F, A, B, C)\n",
    "        \n",
    "        # If no knots detected, we \"pull\" down the triangle at i+1 to the avgCoords to begin \"straightening\" the sequence\n",
    "        if nk==0:\n",
    "            dataVals[i + 1] = avgCoords\n",
    "        nproblem += nk\n",
    "        \n",
    "        # Check if distance is short enough for Threshold trick\n",
    "        distance = lineseg_dist(avgCoords, dataVals[i], dataVals[i+2])\n",
    "        if distance < 0.01:\n",
    "            indexofthresholds.append(i)\n",
    "            \n",
    "    # deletes the indexes that have reached the threshold since its in the middle of a straight line\n",
    "    for i in indexofthresholds:\n",
    "        dataVals = np.delete(dataVals, i, 0)\n",
    "    indexofthresholds = []\n",
    "        \n",
    "    if nproblem > 0:\n",
    "        print(\"On iteration {}, {} knot(s) were detected\".format(k, nproblem))\n",
    "    totalKnotsFnd += nproblem\n",
    "\n",
    "if totalKnotsFnd == 0:\n",
    "    print(\"There were no knots found within the file\")"
   ]
  },
  {
   "cell_type": "code",
   "execution_count": null,
   "metadata": {},
   "outputs": [],
   "source": []
  }
 ],
 "metadata": {
  "kernelspec": {
   "display_name": "Python 3",
   "language": "python",
   "name": "python3"
  },
  "language_info": {
   "codemirror_mode": {
    "name": "ipython",
    "version": 3
   },
   "file_extension": ".py",
   "mimetype": "text/x-python",
   "name": "python",
   "nbconvert_exporter": "python",
   "pygments_lexer": "ipython3",
   "version": "3.8.5"
  }
 },
 "nbformat": 4,
 "nbformat_minor": 4
}
